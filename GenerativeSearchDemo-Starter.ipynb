{
 "cells": [
  {
   "cell_type": "code",
   "execution_count": null,
   "id": "204f9226",
   "metadata": {},
   "outputs": [],
   "source": [
    "# You need to install the python Weaviate client\n",
    "!pip install weaviate-client"
   ]
  },
  {
   "cell_type": "markdown",
   "id": "5da93764",
   "metadata": {},
   "source": [
    "## Download data\n",
    "Download data from [drive](https://drive.google.com/file/d/1oOv6zT7_whFE78fUzo8hi64_FWO6-l44/view?usp=sharing)"
   ]
  },
  {
   "cell_type": "markdown",
   "id": "fe10c32b",
   "metadata": {},
   "source": [
    "## ☁️☁️ Configure the Weaviate Cloud Instance ☁️☁️\n",
    "### Free 14 day sandbox here: https://console.weaviate.cloud/"
   ]
  },
  {
   "cell_type": "code",
   "execution_count": null,
   "id": "b6bfb80e",
   "metadata": {},
   "outputs": [],
   "source": [
    "import os\n",
    "import weaviate\n",
    "import json\n",
    "\n",
    "auth_config = weaviate.auth.AuthApiKey(api_key=#TODO)\n",
    "\n",
    "client = weaviate.Client(\n",
    "    url=#TODO,\n",
    "    auth_client_secret=auth_config,\n",
    "    \n",
    "    additional_headers={\n",
    "        \"X-Cohere-Api-Key\": #TODO,\n",
    "        \"X-OpenAI-Api-Key\": #TODO\n",
    "    }\n",
    ")\n",
    "client.is_ready()"
   ]
  },
  {
   "cell_type": "markdown",
   "id": "395b6edc",
   "metadata": {},
   "source": [
    "## ䷀䷀Create Database Schema䷀䷀"
   ]
  },
  {
   "cell_type": "code",
   "execution_count": null,
   "id": "dde8cb41",
   "metadata": {},
   "outputs": [],
   "source": [
    "# delete existing schema, (note, this will delete all your weaviate data)\n",
    "client.schema.delete_all()\n",
    "\n",
    "article_schema = { #TODO \n",
    "}\n",
    "\n",
    "# add the schema\n",
    "#client.schema.delete_all()\n",
    "client.schema.create_class(article_schema)\n",
    "\n",
    "print(\"The schema has been created\")"
   ]
  },
  {
   "cell_type": "code",
   "execution_count": null,
   "id": "ebf4f1de",
   "metadata": {},
   "outputs": [],
   "source": [
    "client.schema.get()"
   ]
  },
  {
   "cell_type": "code",
   "execution_count": null,
   "id": "f1475bdb",
   "metadata": {},
   "outputs": [],
   "source": [
    "import pandas as pd\n",
    "df = pd.read_parquet('wiki_simple_100k.parquet')"
   ]
  },
  {
   "cell_type": "code",
   "execution_count": null,
   "id": "64659c31",
   "metadata": {},
   "outputs": [],
   "source": [
    "df.sample(10)"
   ]
  },
  {
   "cell_type": "code",
   "execution_count": null,
   "id": "e149bfb0",
   "metadata": {},
   "outputs": [],
   "source": [
    "df['emb'][0].shape"
   ]
  },
  {
   "cell_type": "markdown",
   "id": "a2a86fb4",
   "metadata": {},
   "source": [
    "## 💽💽 Batch and Add 100k Wikipedia Articles to Weaviate 💽💽"
   ]
  },
  {
   "cell_type": "code",
   "execution_count": null,
   "id": "5f4a984c",
   "metadata": {},
   "outputs": [],
   "source": [
    "### Step 1 - configure Weaviate Batch, which optimizes CRUD operations in bulk\n",
    "# - starting batch size of 100\n",
    "# - dynamically increase/decrease based on performance\n",
    "# - add timeout retries if something goes wrong\n",
    "\n",
    "#TODO"
   ]
  },
  {
   "cell_type": "code",
   "execution_count": null,
   "id": "d92b1202",
   "metadata": {},
   "outputs": [],
   "source": [
    "data = df[:100000] # make sure it is not more than 100k objects\n",
    "\n",
    "counter=0\n",
    "\n",
    "with client.batch as batch:\n",
    "    for idx, item in data.iterrows():        \n",
    "        # print update message every 100 objects        \n",
    "        if (counter %100 == 0):\n",
    "            print(f\"Import {counter} / {len(data)} \", end=\"\\r\")\n",
    "\n",
    "        #TODO\n",
    "        \n",
    "        counter = counter+1\n",
    "    print(f\"Import {counter} / {len(data)}\")\n",
    "        \n",
    "print(\"Import complete\")"
   ]
  },
  {
   "cell_type": "code",
   "execution_count": null,
   "id": "249c4367",
   "metadata": {},
   "outputs": [],
   "source": [
    "# Test that all data has loaded – get object count\n",
    "result = #TODO"
   ]
  },
  {
   "cell_type": "markdown",
   "id": "c1f4f3af",
   "metadata": {},
   "source": [
    "## 🔎🔎All the ways you can search your data:🔍🔍\n",
    "\n",
    "### 1. Classic Word Search \n",
    "- Basic word matching. Look for the occurence of a word in the document.\n",
    "\n",
    "### 2. Vector Search\n",
    "- Find closest object vectors closest to query vector. Fetches objects the have similar meaning to the query.\n",
    "\n",
    "### 3. Hybrid Search - combine word and semantic match.\n",
    "- Perform both word and vector search and then combine the results.\n",
    "\n",
    "### 4. Generative Search - search and interpret with an LLM.\n",
    "- Search for semantically relevant documents to a prompt and then provide them as context to a LLM to guide its generation."
   ]
  },
  {
   "cell_type": "markdown",
   "id": "025bef95",
   "metadata": {},
   "source": [
    "### 1. Classic Word Search "
   ]
  },
  {
   "cell_type": "code",
   "execution_count": null,
   "id": "556bda5c",
   "metadata": {},
   "outputs": [],
   "source": [
    "where_filter = #TODO\n",
    "\n",
    "query_result = #TODO\n",
    "\n",
    "print(json.dumps(query_result, indent=2))"
   ]
  },
  {
   "cell_type": "code",
   "execution_count": null,
   "id": "e1e9eefe",
   "metadata": {},
   "outputs": [],
   "source": [
    "where_filter = {\n",
    "  \"path\": [\"title\"],\n",
    "  \"operator\": \"Like\",\n",
    "  \"valueString\": \"*fastest animals*\" #getting back animals that are fast not really matching \"fastest animals\"\n",
    "}\n",
    "\n",
    "query_result = (\n",
    "  client.query\n",
    "  .get(\"Article\", [\"title\", \"text\",\"wiki_id\"])\n",
    "  .with_where(where_filter)\n",
    "  .do()\n",
    ")\n",
    "\n",
    "print(query_result['data']['Get']['Article'][0]['title']+'\\n'+query_result['data']['Get']['Article'][0]['text'])"
   ]
  },
  {
   "cell_type": "code",
   "execution_count": null,
   "id": "afe17165",
   "metadata": {},
   "outputs": [],
   "source": [
    "print(json.dumps(query_result,indent=2))"
   ]
  },
  {
   "cell_type": "markdown",
   "id": "32536a75",
   "metadata": {},
   "source": [
    "### 2. Vector Search/ Semantic Search/ Neural Search"
   ]
  },
  {
   "cell_type": "code",
   "execution_count": null,
   "id": "9ff5129c",
   "metadata": {},
   "outputs": [],
   "source": [
    "def semantic_search(query): #'fast animals that live in the sea'\n",
    "    \n",
    "    nearText = #TODO\n",
    "\n",
    "    properties = #TODO\n",
    "\n",
    "    response = #TODO\n",
    "\n",
    "    result = response['data']['Get']['Article']\n",
    "\n",
    "    return result\n",
    "    \n",
    "#helper print function\n",
    "def print_result(result):\n",
    "    for item in result:\n",
    "        print(f\"\\033[95m{item['title']} ({item['views']}) {item['_additional']['distance']}\\033[0m\")\n",
    "        print(f\"\\033[4m{item['url']}\\033[0m\")\n",
    "        print(item['text'])\n",
    "        print()"
   ]
  },
  {
   "cell_type": "code",
   "execution_count": null,
   "id": "721f622f",
   "metadata": {},
   "outputs": [],
   "source": [
    "query_result = #TODO\n",
    "\n",
    "print_result(query_result)"
   ]
  },
  {
   "cell_type": "code",
   "execution_count": null,
   "id": "0e778982",
   "metadata": {},
   "outputs": [],
   "source": [
    "query_result = #TODO\n",
    "\n",
    "print_result(query_result)"
   ]
  },
  {
   "cell_type": "markdown",
   "id": "844728c4",
   "metadata": {},
   "source": [
    "### ... but wait ... this is a Multi-Lingual Model! 🗣❗️\n",
    "\n",
    " - You can use it to perform multilingual search! Search in one language that model understands and recieve relevant documents in any language!"
   ]
  },
  {
   "cell_type": "code",
   "execution_count": null,
   "id": "59cc15dc",
   "metadata": {},
   "outputs": [],
   "source": [
    "# This is a multi-lingual model so it can take in queries in different languages!\n",
    "\n",
    "\n",
    "query_result = #TODO\n",
    "\n",
    "print_result(query_result)"
   ]
  },
  {
   "cell_type": "code",
   "execution_count": null,
   "id": "6214567f",
   "metadata": {},
   "outputs": [],
   "source": [
    "#\"vacation spots\" in Farsi\n",
    "\n",
    "query_result = #TODO\n",
    "\n",
    "print_result(query_result)"
   ]
  },
  {
   "cell_type": "code",
   "execution_count": null,
   "id": "d289d6a0",
   "metadata": {},
   "outputs": [],
   "source": [
    "# GREAT ACTION movies in chinese\n",
    "query_result = #TODO\n",
    "\n",
    "print_result(query_result)"
   ]
  },
  {
   "cell_type": "markdown",
   "id": "b567c3f0",
   "metadata": {},
   "source": [
    "### 3. Hybrid Search: IF you want to mix both Keyword search and semantic search!\n",
    "\n",
    "- Getting the best of both world!"
   ]
  },
  {
   "cell_type": "code",
   "execution_count": null,
   "id": "2f590b20",
   "metadata": {},
   "outputs": [],
   "source": [
    "response = #TODO\n",
    "\n",
    "print(json.dumps(response, indent=2))"
   ]
  },
  {
   "cell_type": "code",
   "execution_count": null,
   "id": "1f4afc9f",
   "metadata": {},
   "outputs": [],
   "source": [
    "response = #TODO\n",
    "\n",
    "print(json.dumps(response, indent=2))"
   ]
  },
  {
   "cell_type": "markdown",
   "id": "efd27f7d",
   "metadata": {},
   "source": [
    "### 4. Generative Search:\n",
    "- Attaching your search engine outputs to a LLM to generate with!/"
   ]
  },
  {
   "cell_type": "code",
   "execution_count": null,
   "id": "3f2c5cfa",
   "metadata": {},
   "outputs": [],
   "source": [
    "bb_res = semantic_search(\"famous basketball players NBA\")\n",
    "print_result(bb_res)"
   ]
  },
  {
   "cell_type": "code",
   "execution_count": null,
   "id": "4cbee297",
   "metadata": {},
   "outputs": [],
   "source": [
    "#Q for the LLM\n",
    "generatePrompt = #TODO\n",
    "\n",
    "result = #TODO"
   ]
  },
  {
   "cell_type": "code",
   "execution_count": null,
   "id": "d0206d49",
   "metadata": {},
   "outputs": [],
   "source": [
    "print(json.dumps(result, indent=2))"
   ]
  },
  {
   "cell_type": "code",
   "execution_count": null,
   "id": "713d9ff0",
   "metadata": {},
   "outputs": [],
   "source": [
    "print(\"Generated Text:\\n\" + result['data']['Get']['Article'][0]['_additional']['generate']['singleResult']+\"\\n\")\n",
    "\n",
    "\n",
    "print(\"Relevant Context:\\n\" + result['data']['Get']['Article'][0]['title']+\"\\n\")"
   ]
  },
  {
   "cell_type": "markdown",
   "id": "312f208e",
   "metadata": {},
   "source": [
    "#### Passing all relevant documents to complete a Task specified in the Prompt: Grouped Task"
   ]
  },
  {
   "cell_type": "code",
   "execution_count": null,
   "id": "5456bb59",
   "metadata": {},
   "outputs": [],
   "source": [
    "generateTask = #TODO\n",
    "\n",
    "result = #TODO\n",
    "\n",
    "print(\"Generated Text:\\n\" + result['data']['Get']['Article'][0]['_additional']['generate']['groupedResult']+\"\\n\"+\"\\nArticle Titles Provided as Context:\\n\")\n",
    "\n",
    "k = [print(result['data']['Get']['Article'][i]['title']+\"\\n\") for i in range(len(result['data']['Get']['Article']))]"
   ]
  },
  {
   "cell_type": "code",
   "execution_count": null,
   "id": "9c11d054",
   "metadata": {},
   "outputs": [],
   "source": [
    "generateTask = \"Tell me a story where these people {title} fight each other, here's some information about them {text}\"\n",
    "\n",
    "result = (\n",
    "  client.query\n",
    "  .get(\"Article\", [\"title\",'text'])\n",
    "  .with_generate(grouped_task=generateTask)\n",
    "  .with_near_text({\n",
    "    \"concepts\": [\"famous basketball players NBA\"]\n",
    "  })\n",
    "  .with_limit(5)\n",
    ").do()\n",
    "\n",
    "print(\"Generated Text:\\n\" + result['data']['Get']['Article'][0]['_additional']['generate']['groupedResult']+\"\\n\\nArticle Text Provided as Context:\\n\")\n",
    "\n",
    "k = [print(result['data']['Get']['Article'][i]['title']+\"\\n\") for i in range(len(result['data']['Get']['Article']))]"
   ]
  }
 ],
 "metadata": {
  "kernelspec": {
   "display_name": "Python 3 (ipykernel)",
   "language": "python",
   "name": "python3"
  },
  "language_info": {
   "codemirror_mode": {
    "name": "ipython",
    "version": 3
   },
   "file_extension": ".py",
   "mimetype": "text/x-python",
   "name": "python",
   "nbconvert_exporter": "python",
   "pygments_lexer": "ipython3",
   "version": "3.9.15"
  }
 },
 "nbformat": 4,
 "nbformat_minor": 5
}
