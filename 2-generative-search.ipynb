{
 "cells": [
  {
   "cell_type": "code",
   "execution_count": null,
   "id": "204f9226",
   "metadata": {},
   "outputs": [],
   "source": [
    "# You need to install the python Weaviate client\n",
    "!pip install weaviate-client"
   ]
  },
  {
   "cell_type": "markdown",
   "id": "5da93764",
   "metadata": {},
   "source": [
    "## Download data\n",
    "Download data from [drive](https://drive.google.com/file/d/1W8nBPZA2j1_6AGnw2BAe6ydXLNXzuDq2/view?usp=share_link)"
   ]
  },
  {
   "attachments": {},
   "cell_type": "markdown",
   "id": "fe10c32b",
   "metadata": {},
   "source": [
    "## ☁️☁️ Configure the Weaviate Cloud Instance ☁️☁️\n",
    "### Free 14 day sandbox here: https://console.weaviate.cloud/"
   ]
  },
  {
   "cell_type": "code",
   "execution_count": 55,
   "id": "b6bfb80e",
   "metadata": {},
   "outputs": [
    {
     "data": {
      "text/plain": [
       "True"
      ]
     },
     "execution_count": 55,
     "metadata": {},
     "output_type": "execute_result"
    }
   ],
   "source": [
    "import os\n",
    "import weaviate\n",
    "from wcs_key import wcs_token\n",
    "import json\n",
    "\n",
    "auth_config = weaviate.auth.AuthApiKey(api_key='lA0xSs0NzKwUSg7rzz31QtMMY49eITnA3JI7')\n",
    "client = weaviate.Client(\n",
    "    url=\"https://glami1m-or5eo50e.weaviate.network\",\n",
    "    auth_client_secret=auth_config,\n",
    "    additional_headers={\n",
    "        \"X-Cohere-Api-Key\": os.getenv(\"COHERE_API_KEY\"),\n",
    "        \"X-OpenAI-Api-Key\": os.getenv(\"OPENAI_API_KEY\"),  \n",
    "    }\n",
    ")\n",
    "client.is_ready()"
   ]
  },
  {
   "cell_type": "markdown",
   "id": "395b6edc",
   "metadata": {},
   "source": [
    "## ䷀䷀Create Database Schema䷀䷀"
   ]
  },
  {
   "cell_type": "code",
   "execution_count": 15,
   "id": "dde8cb41",
   "metadata": {},
   "outputs": [
    {
     "name": "stdout",
     "output_type": "stream",
     "text": [
      "The schema has been created\n"
     ]
    }
   ],
   "source": [
    "# delete existing schema, (note, this will delete all your weaviate data)\n",
    "#client.schema.delete_all()\n",
    "\n",
    "article_schema = {\n",
    "    \"class\": \"Article\",\n",
    "    \"description\": \"Wiki Article\",\n",
    "    \"vectorizer\": \"text2vec-cohere\",#multi-lingual\n",
    "    \"moduleConfig\": {\n",
    "        \"text2vec-cohere\": {\n",
    "            \"model\": \"multilingual-22-12\",\n",
    "            \"truncate\": \"RIGHT\"\n",
    "        }, \n",
    "        \"generative-openai\":{},\n",
    "    },\n",
    "    \"vectorIndexConfig\": {\n",
    "        \"distance\": \"dot\"\n",
    "    },\n",
    "    \"properties\": [\n",
    "    {\n",
    "        \"name\": \"text\",\n",
    "        \"dataType\": [ \"text\" ],\n",
    "        \"description\": \"Article body\",\n",
    "        \"moduleConfig\": {\n",
    "            \"text2vec-cohere\": {\n",
    "                \"skip\": False,\n",
    "                \"vectorizePropertyName\": False\n",
    "            }\n",
    "        }\n",
    "    },\n",
    "    {\n",
    "        \"name\": \"title\",\n",
    "        \"dataType\": [ \"string\" ],\n",
    "        \"moduleConfig\": { \"text2vec-cohere\": { \"skip\": True } }\n",
    "    },\n",
    "    {\n",
    "        \"name\": \"url\",\n",
    "        \"dataType\": [ \"string\" ],\n",
    "        \"moduleConfig\": { \"text2vec-cohere\": { \"skip\": True } }\n",
    "    },\n",
    "    {\n",
    "        \"name\": \"wiki_id\",\n",
    "        \"dataType\": [ \"int\" ],\n",
    "        \"moduleConfig\": { \"text2vec-cohere\": { \"skip\": True } }\n",
    "    },\n",
    "    {\n",
    "        \"name\": \"views\",\n",
    "        \"dataType\": [ \"number\" ],\n",
    "        \"moduleConfig\": { \"text2vec-cohere\": { \"skip\": True } }\n",
    "    },\n",
    "    ]\n",
    "}\n",
    "\n",
    "# add the schema\n",
    "#client.schema.delete_all()\n",
    "client.schema.create_class(article_schema)\n",
    "\n",
    "print(\"The schema has been created\")"
   ]
  },
  {
   "cell_type": "code",
   "execution_count": 16,
   "id": "f1475bdb",
   "metadata": {},
   "outputs": [],
   "source": [
    "import pandas as pd\n",
    "df = pd.read_parquet('wiki_simple_100k.parquet')"
   ]
  },
  {
   "cell_type": "code",
   "execution_count": 17,
   "id": "91a8c5e2",
   "metadata": {},
   "outputs": [
    {
     "data": {
      "text/plain": [
       "768"
      ]
     },
     "execution_count": 17,
     "metadata": {},
     "output_type": "execute_result"
    }
   ],
   "source": [
    "df['emb'][0].shape[0]"
   ]
  },
  {
   "cell_type": "code",
   "execution_count": 18,
   "id": "64659c31",
   "metadata": {},
   "outputs": [
    {
     "data": {
      "text/html": [
       "<div>\n",
       "<style scoped>\n",
       "    .dataframe tbody tr th:only-of-type {\n",
       "        vertical-align: middle;\n",
       "    }\n",
       "\n",
       "    .dataframe tbody tr th {\n",
       "        vertical-align: top;\n",
       "    }\n",
       "\n",
       "    .dataframe thead th {\n",
       "        text-align: right;\n",
       "    }\n",
       "</style>\n",
       "<table border=\"1\" class=\"dataframe\">\n",
       "  <thead>\n",
       "    <tr style=\"text-align: right;\">\n",
       "      <th></th>\n",
       "      <th>id</th>\n",
       "      <th>title</th>\n",
       "      <th>text</th>\n",
       "      <th>url</th>\n",
       "      <th>wiki_id</th>\n",
       "      <th>views</th>\n",
       "      <th>paragraph_id</th>\n",
       "      <th>langs</th>\n",
       "      <th>emb</th>\n",
       "    </tr>\n",
       "  </thead>\n",
       "  <tbody>\n",
       "    <tr>\n",
       "      <th>0</th>\n",
       "      <td>0</td>\n",
       "      <td>24-hour clock</td>\n",
       "      <td>The 24-hour clock is a way of telling the time...</td>\n",
       "      <td>https://simple.wikipedia.org/wiki?curid=9985</td>\n",
       "      <td>9985</td>\n",
       "      <td>2450.625488</td>\n",
       "      <td>0</td>\n",
       "      <td>30</td>\n",
       "      <td>[0.07711287587881088, 0.3197174072265625, -0.2...</td>\n",
       "    </tr>\n",
       "    <tr>\n",
       "      <th>1</th>\n",
       "      <td>1</td>\n",
       "      <td>24-hour clock</td>\n",
       "      <td>A time in the 24-hour clock is written in the ...</td>\n",
       "      <td>https://simple.wikipedia.org/wiki?curid=9985</td>\n",
       "      <td>9985</td>\n",
       "      <td>2450.625488</td>\n",
       "      <td>1</td>\n",
       "      <td>30</td>\n",
       "      <td>[0.19612890481948853, 0.5142669677734375, 0.03...</td>\n",
       "    </tr>\n",
       "    <tr>\n",
       "      <th>2</th>\n",
       "      <td>2</td>\n",
       "      <td>24-hour clock</td>\n",
       "      <td>However, the US military prefers not to say 24...</td>\n",
       "      <td>https://simple.wikipedia.org/wiki?curid=9985</td>\n",
       "      <td>9985</td>\n",
       "      <td>2450.625488</td>\n",
       "      <td>2</td>\n",
       "      <td>30</td>\n",
       "      <td>[0.1391918957233429, 0.17759686708450317, -0.1...</td>\n",
       "    </tr>\n",
       "    <tr>\n",
       "      <th>3</th>\n",
       "      <td>3</td>\n",
       "      <td>24-hour clock</td>\n",
       "      <td>24-hour clock time is used in computers, milit...</td>\n",
       "      <td>https://simple.wikipedia.org/wiki?curid=9985</td>\n",
       "      <td>9985</td>\n",
       "      <td>2450.625488</td>\n",
       "      <td>3</td>\n",
       "      <td>30</td>\n",
       "      <td>[0.1279686838388443, 0.06708071380853653, -0.0...</td>\n",
       "    </tr>\n",
       "    <tr>\n",
       "      <th>4</th>\n",
       "      <td>4</td>\n",
       "      <td>24-hour clock</td>\n",
       "      <td>In railway timetables 24:00 means the \"end\" of...</td>\n",
       "      <td>https://simple.wikipedia.org/wiki?curid=9985</td>\n",
       "      <td>9985</td>\n",
       "      <td>2450.625488</td>\n",
       "      <td>4</td>\n",
       "      <td>30</td>\n",
       "      <td>[0.0753360167145729, 0.3530837893486023, -0.08...</td>\n",
       "    </tr>\n",
       "  </tbody>\n",
       "</table>\n",
       "</div>"
      ],
      "text/plain": [
       "   id          title                                               text  \\\n",
       "0   0  24-hour clock  The 24-hour clock is a way of telling the time...   \n",
       "1   1  24-hour clock  A time in the 24-hour clock is written in the ...   \n",
       "2   2  24-hour clock  However, the US military prefers not to say 24...   \n",
       "3   3  24-hour clock  24-hour clock time is used in computers, milit...   \n",
       "4   4  24-hour clock  In railway timetables 24:00 means the \"end\" of...   \n",
       "\n",
       "                                            url  wiki_id        views  \\\n",
       "0  https://simple.wikipedia.org/wiki?curid=9985     9985  2450.625488   \n",
       "1  https://simple.wikipedia.org/wiki?curid=9985     9985  2450.625488   \n",
       "2  https://simple.wikipedia.org/wiki?curid=9985     9985  2450.625488   \n",
       "3  https://simple.wikipedia.org/wiki?curid=9985     9985  2450.625488   \n",
       "4  https://simple.wikipedia.org/wiki?curid=9985     9985  2450.625488   \n",
       "\n",
       "   paragraph_id  langs                                                emb  \n",
       "0             0     30  [0.07711287587881088, 0.3197174072265625, -0.2...  \n",
       "1             1     30  [0.19612890481948853, 0.5142669677734375, 0.03...  \n",
       "2             2     30  [0.1391918957233429, 0.17759686708450317, -0.1...  \n",
       "3             3     30  [0.1279686838388443, 0.06708071380853653, -0.0...  \n",
       "4             4     30  [0.0753360167145729, 0.3530837893486023, -0.08...  "
      ]
     },
     "execution_count": 18,
     "metadata": {},
     "output_type": "execute_result"
    }
   ],
   "source": [
    "df.head()"
   ]
  },
  {
   "cell_type": "markdown",
   "id": "a2a86fb4",
   "metadata": {},
   "source": [
    "## 💽💽 Batch and Add 100k Wikipedia Articles to Weaviate 💽💽"
   ]
  },
  {
   "cell_type": "code",
   "execution_count": 19,
   "id": "5f4a984c",
   "metadata": {},
   "outputs": [
    {
     "data": {
      "text/plain": [
       "<weaviate.batch.crud_batch.Batch at 0x7fbffa707c10>"
      ]
     },
     "execution_count": 19,
     "metadata": {},
     "output_type": "execute_result"
    }
   ],
   "source": [
    "### Step 1 - configure Weaviate Batch, which optimizes CRUD operations in bulk\n",
    "# - starting batch size of 100\n",
    "# - dynamically increase/decrease based on performance\n",
    "# - add timeout retries if something goes wrong\n",
    "\n",
    "client.batch.configure(\n",
    "    batch_size=200,\n",
    "    dynamic=True,\n",
    "    timeout_retries=3,\n",
    ")"
   ]
  },
  {
   "cell_type": "code",
   "execution_count": 20,
   "id": "d92b1202",
   "metadata": {},
   "outputs": [
    {
     "name": "stdout",
     "output_type": "stream",
     "text": [
      "Import 100000 / 100000\n",
      "Import complete\n"
     ]
    }
   ],
   "source": [
    "data = df[:100000] # make sure it is not more than 100k objects\n",
    "\n",
    "counter=0\n",
    "\n",
    "with client.batch as batch:\n",
    "    for idx, item in data.iterrows():        \n",
    "        # print update message every 100 objects        \n",
    "        if (counter %100 == 0):\n",
    "            print(f\"Import {counter} / {len(data)} \", end=\"\\r\")\n",
    "\n",
    "        properties = {\n",
    "        \"text\": item[\"text\"],\n",
    "        \"title\": item[\"title\"],\n",
    "        \"url\": item[\"url\"],\n",
    "        \"views\": item[\"views\"],\n",
    "        \"wiki_id\": item[\"wiki_id\"]\n",
    "        }\n",
    "\n",
    "        vector = item[\"emb\"]\n",
    "\n",
    "        batch.add_data_object(properties, \"Article\", None, vector)\n",
    "        counter = counter+1\n",
    "    print(f\"Import {counter} / {len(data)}\")\n",
    "        \n",
    "print(\"Import complete\")"
   ]
  },
  {
   "cell_type": "code",
   "execution_count": 21,
   "id": "249c4367",
   "metadata": {},
   "outputs": [
    {
     "name": "stdout",
     "output_type": "stream",
     "text": [
      "Object count:  [{'meta': {'count': 100000}}]\n"
     ]
    }
   ],
   "source": [
    "# Test that all data has loaded – get object count\n",
    "result = (\n",
    "    client.query.aggregate(\"Article\")\n",
    "    .with_fields(\"meta { count }\")\n",
    "    .do()\n",
    ")\n",
    "print(\"Object count: \", result[\"data\"][\"Aggregate\"][\"Article\"])"
   ]
  },
  {
   "cell_type": "markdown",
   "id": "c1f4f3af",
   "metadata": {},
   "source": [
    "## 🔎🔎All the ways you can search your data:🔍🔍\n",
    "\n",
    "### 1. Classic Word Search \n",
    "- Basic word matching. Look for the occurence of a word in the document.\n",
    "\n",
    "### 2. Vector Search\n",
    "- Find closest object vectors closest to query vector. Fetches objects the have similar meaning to the query.\n",
    "\n",
    "### 3. Hybrid Search - combine word and semantic match.\n",
    "- Perform both word and vector search and then combine the results.\n",
    "\n",
    "### 4. Generative Search - search and interpret with an LLM.\n",
    "- Search for semantically relevant documents to a prompt and then provide them as context to a LLM to guide its generation."
   ]
  },
  {
   "cell_type": "markdown",
   "id": "025bef95",
   "metadata": {},
   "source": [
    "### 1. Classic Word Search "
   ]
  },
  {
   "cell_type": "code",
   "execution_count": 60,
   "id": "556bda5c",
   "metadata": {},
   "outputs": [
    {
     "name": "stdout",
     "output_type": "stream",
     "text": [
      "{\n",
      "  \"data\": {\n",
      "    \"Get\": {\n",
      "      \"Article\": [\n",
      "        {\n",
      "          \"text\": \"There are at least 800 breeds (kinds) of dogs. Dogs whose parents were the same breed will also be that breed: these dogs are called purebred or pure pedigree dogs. Dogs with parents from different breeds no longer belong to one breed: they are called \\\"mutts\\\", \\\"mixed-breed dogs\\\", \\\"hybrids\\\", or \\\"mongrels\\\". Some of the most popular breeds are sheepdogs, collies, poodles and retrievers. It is becoming popular to breed together two different breeds of dogs and call the new dog's breed a name that is a mixture of the parents' breeds' two names. A puppy with a poodle and a pomeranian as parents might be called a Pomapoo. Instead of being called mutts, these kinds of dogs are known as designer dog breeds. These dogs are normally used for prize shows and designer shows.\",\n",
      "          \"title\": \"Dog\",\n",
      "          \"wiki_id\": 3632\n",
      "        },\n",
      "        {\n",
      "          \"text\": \"Dogs are sometimes referred to as \\\"man's best friend\\\" because they are kept as domestic pets, are usually loyal, and like being around humans. Dogs like to be petted, but only when they can first see the petter's hand before petting; one should never pet a dog from behind.\",\n",
      "          \"title\": \"Dog\",\n",
      "          \"wiki_id\": 3632\n",
      "        },\n",
      "        {\n",
      "          \"text\": \"Today, some dogs are used as pets, and others are used to help humans do their work. They are popular pets because they are usually playful, friendly, loyal, and listen to humans. Thirty million dogs in the United States are registered as pets. Dogs eat both meat and vegetables, often mixed together and sold in stores as dog food. Dogs often have jobs, including police dogs, army dogs, assistance dogs, fire dogs, messenger dogs, hunting dogs, herding dogs, or rescue dogs.\",\n",
      "          \"title\": \"Dog\",\n",
      "          \"wiki_id\": 3632\n",
      "        }\n",
      "      ]\n",
      "    }\n",
      "  }\n",
      "}\n"
     ]
    }
   ],
   "source": [
    "where_filter = {\n",
    "  \"path\": [\"title\"],\n",
    "  \"operator\": \"Like\", \n",
    "  \"valueString\": \"Dog\"\n",
    "}\n",
    "\n",
    "query_result = (\n",
    "  client.query\n",
    "  .get(\"Article\", [\"title\", \"text\",\"wiki_id\"])\n",
    "  .with_where(where_filter)\n",
    "  .with_limit(3)\n",
    "  .do()\n",
    ")\n",
    "\n",
    "print(json.dumps(query_result, indent=2))"
   ]
  },
  {
   "cell_type": "code",
   "execution_count": 28,
   "id": "e1e9eefe",
   "metadata": {},
   "outputs": [
    {
     "ename": "IndexError",
     "evalue": "list index out of range",
     "output_type": "error",
     "traceback": [
      "\u001b[0;31m---------------------------------------------------------------------------\u001b[0m",
      "\u001b[0;31mIndexError\u001b[0m                                Traceback (most recent call last)",
      "Cell \u001b[0;32mIn[28], line 14\u001b[0m\n\u001b[1;32m      1\u001b[0m where_filter \u001b[38;5;241m=\u001b[39m {\n\u001b[1;32m      2\u001b[0m   \u001b[38;5;124m\"\u001b[39m\u001b[38;5;124mpath\u001b[39m\u001b[38;5;124m\"\u001b[39m: [\u001b[38;5;124m\"\u001b[39m\u001b[38;5;124mtitle\u001b[39m\u001b[38;5;124m\"\u001b[39m],\n\u001b[1;32m      3\u001b[0m   \u001b[38;5;124m\"\u001b[39m\u001b[38;5;124moperator\u001b[39m\u001b[38;5;124m\"\u001b[39m: \u001b[38;5;124m\"\u001b[39m\u001b[38;5;124mLike\u001b[39m\u001b[38;5;124m\"\u001b[39m, \u001b[38;5;66;03m#\u001b[39;00m\n\u001b[1;32m      4\u001b[0m   \u001b[38;5;124m\"\u001b[39m\u001b[38;5;124mvalueString\u001b[39m\u001b[38;5;124m\"\u001b[39m: \u001b[38;5;124m\"\u001b[39m\u001b[38;5;124mfastest animals\u001b[39m\u001b[38;5;124m\"\u001b[39m\n\u001b[1;32m      5\u001b[0m }\n\u001b[1;32m      7\u001b[0m query_result \u001b[38;5;241m=\u001b[39m (\n\u001b[1;32m      8\u001b[0m   client\u001b[38;5;241m.\u001b[39mquery\n\u001b[1;32m      9\u001b[0m   \u001b[38;5;241m.\u001b[39mget(\u001b[38;5;124m\"\u001b[39m\u001b[38;5;124mArticle\u001b[39m\u001b[38;5;124m\"\u001b[39m, [\u001b[38;5;124m\"\u001b[39m\u001b[38;5;124mtitle\u001b[39m\u001b[38;5;124m\"\u001b[39m, \u001b[38;5;124m\"\u001b[39m\u001b[38;5;124mtext\u001b[39m\u001b[38;5;124m\"\u001b[39m,\u001b[38;5;124m\"\u001b[39m\u001b[38;5;124mwiki_id\u001b[39m\u001b[38;5;124m\"\u001b[39m])\n\u001b[1;32m     10\u001b[0m   \u001b[38;5;241m.\u001b[39mwith_where(where_filter)\n\u001b[1;32m     11\u001b[0m   \u001b[38;5;241m.\u001b[39mdo()\n\u001b[1;32m     12\u001b[0m )\n\u001b[0;32m---> 14\u001b[0m \u001b[38;5;28mprint\u001b[39m(\u001b[43mquery_result\u001b[49m\u001b[43m[\u001b[49m\u001b[38;5;124;43m'\u001b[39;49m\u001b[38;5;124;43mdata\u001b[39;49m\u001b[38;5;124;43m'\u001b[39;49m\u001b[43m]\u001b[49m\u001b[43m[\u001b[49m\u001b[38;5;124;43m'\u001b[39;49m\u001b[38;5;124;43mGet\u001b[39;49m\u001b[38;5;124;43m'\u001b[39;49m\u001b[43m]\u001b[49m\u001b[43m[\u001b[49m\u001b[38;5;124;43m'\u001b[39;49m\u001b[38;5;124;43mArticle\u001b[39;49m\u001b[38;5;124;43m'\u001b[39;49m\u001b[43m]\u001b[49m\u001b[43m[\u001b[49m\u001b[38;5;241;43m0\u001b[39;49m\u001b[43m]\u001b[49m[\u001b[38;5;124m'\u001b[39m\u001b[38;5;124mtitle\u001b[39m\u001b[38;5;124m'\u001b[39m]\u001b[38;5;241m+\u001b[39m\u001b[38;5;124m'\u001b[39m\u001b[38;5;130;01m\\n\u001b[39;00m\u001b[38;5;124m'\u001b[39m\u001b[38;5;241m+\u001b[39mquery_result[\u001b[38;5;124m'\u001b[39m\u001b[38;5;124mdata\u001b[39m\u001b[38;5;124m'\u001b[39m][\u001b[38;5;124m'\u001b[39m\u001b[38;5;124mGet\u001b[39m\u001b[38;5;124m'\u001b[39m][\u001b[38;5;124m'\u001b[39m\u001b[38;5;124mArticle\u001b[39m\u001b[38;5;124m'\u001b[39m][\u001b[38;5;241m0\u001b[39m][\u001b[38;5;124m'\u001b[39m\u001b[38;5;124mtext\u001b[39m\u001b[38;5;124m'\u001b[39m])\n",
      "\u001b[0;31mIndexError\u001b[0m: list index out of range"
     ]
    }
   ],
   "source": [
    "where_filter = {\n",
    "  \"path\": [\"title\"],\n",
    "  \"operator\": \"Like\",\n",
    "  \"valueString\": \"fastest animals\"\n",
    "}\n",
    "\n",
    "query_result = (\n",
    "  client.query\n",
    "  .get(\"Article\", [\"title\", \"text\",\"wiki_id\"])\n",
    "  .with_where(where_filter)\n",
    "  .do()\n",
    ")\n",
    "\n",
    "print(query_result['data']['Get']['Article'][0]['title']+'\\n'+query_result['data']['Get']['Article'][0]['text'])"
   ]
  },
  {
   "cell_type": "code",
   "execution_count": 29,
   "id": "afe17165",
   "metadata": {},
   "outputs": [
    {
     "data": {
      "text/plain": [
       "{'data': {'Get': {'Article': []}}}"
      ]
     },
     "execution_count": 29,
     "metadata": {},
     "output_type": "execute_result"
    }
   ],
   "source": [
    "query_result"
   ]
  },
  {
   "cell_type": "markdown",
   "id": "32536a75",
   "metadata": {},
   "source": [
    "### 2. Vector Search"
   ]
  },
  {
   "cell_type": "code",
   "execution_count": 36,
   "id": "9ff5129c",
   "metadata": {},
   "outputs": [],
   "source": [
    "def semantic_search(query):\n",
    "    nearText = {\n",
    "        \"concepts\": [query], # example from earlier -> 'kitten'\n",
    "#         \"distance\": -139.0,\n",
    "    }\n",
    "\n",
    "    properties = [\n",
    "        \"text\", \"title\", \"url\", \"views\",\n",
    "        \"_additional {distance}\"\n",
    "    ]\n",
    "\n",
    "    response = (\n",
    "        client.query\n",
    "        .get(\"Article\", properties)\n",
    "        .with_near_text(nearText)\n",
    "        .with_limit(3)\n",
    "        .do()\n",
    "    )\n",
    "\n",
    "    result = response['data']['Get']['Article']\n",
    "\n",
    "    return result\n",
    "    \n",
    "def print_result(result):\n",
    "    for item in result:\n",
    "        print(f\"\\033[95m{item['title']} ({item['views']}) {item['_additional']['distance']}\\033[0m\")\n",
    "        print(f\"\\033[4m{item['url']}\\033[0m\")\n",
    "        print(item['text'])\n",
    "        print()"
   ]
  },
  {
   "cell_type": "code",
   "execution_count": 37,
   "id": "721f622f",
   "metadata": {},
   "outputs": [
    {
     "name": "stdout",
     "output_type": "stream",
     "text": [
      "\u001b[95mPeregrine falcon (34.070701599121094) -148.00345\u001b[0m\n",
      "\u001b[4mhttps://simple.wikipedia.org/wiki?curid=135769\u001b[0m\n",
      "The peregrin is a crow-sized falcon, with a blue-grey back, barred white underparts, and a black head and \"moustache\". It can go at up to 322 km/h (200 mph) in a dive, which means it is the fastest animal in the world. As with other bird-eating raptors, the female is bigger than the male. There are 17–19 subspecies recorded, and each varies slightly in appearance and where they live. There is disagreement over whether the distinctive Barbary falcon is a subspecies of the Peregrine or just a different species.\n",
      "\n",
      "\u001b[95mCheetah (286.4949645996094) -147.72418\u001b[0m\n",
      "\u001b[4mhttps://simple.wikipedia.org/wiki?curid=9800\u001b[0m\n",
      "A cheetah (\"Acinonyx jubatus\") is a medium large cat which lives in Africa. It is the fastest land animal and can run up to 112 kilometers per hour for a short time. Most cheetahs live in the savannas of Africa. There are a few in Asia. Cheetahs are active during the day, and hunt in the early morning or late evening.\n",
      "\n",
      "\u001b[95mGazelle (35.45699691772461) -147.68822\u001b[0m\n",
      "\u001b[4mhttps://simple.wikipedia.org/wiki?curid=65033\u001b[0m\n",
      "Gazelles are mostly found in the grasslands and savannas of Africa, but they are also found in southwest Asia. Gazelles are known as fast animals. They can reach high speeds for long periods of time. They usually live in herds. They eat plants and leaves. They show a special way of running slowly and jumping high when they are chased by lions or cheetahs.\n",
      "\n"
     ]
    }
   ],
   "source": [
    "query_result = semantic_search('fastest animals')\n",
    "\n",
    "print_result(query_result)"
   ]
  },
  {
   "cell_type": "code",
   "execution_count": 38,
   "id": "0e778982",
   "metadata": {},
   "outputs": [
    {
     "name": "stdout",
     "output_type": "stream",
     "text": [
      "\u001b[95mPython (programming language) (398.0628356933594) -147.33206\u001b[0m\n",
      "\u001b[4mhttps://simple.wikipedia.org/wiki?curid=44678\u001b[0m\n",
      "Python has become one of the most famous programming languages on the world as of late. It's utilized in all that from AI to building sites and programming testing. It tends to be utilized by engineers and non-designers the same.\n",
      "\n",
      "\u001b[95mC++ (194.4631805419922) -146.66443\u001b[0m\n",
      "\u001b[4mhttps://simple.wikipedia.org/wiki?curid=7535\u001b[0m\n",
      "C++ (pronounced \"see plus plus\") is a computer programming language based on C. It was created for writing programs for many different purposes. In the 1990s, C++ became one of the most used programming languages in the world. Like C, C++ uses manual memory management (unlike most mainstream languages, where memory management is automatic), while the syntax usually used for it is different.\n",
      "\n",
      "\u001b[95mCentral processing unit (575.814453125) -146.47037\u001b[0m\n",
      "\u001b[4mhttps://simple.wikipedia.org/wiki?curid=17376\u001b[0m\n",
      "Machine code is just a sequence of 0s and 1s, which makes it difficult for humans to read it. To make it more readable, machine code programs are usually written in \"assembly language\". Assembly language uses text instead of 0s and 1s: You might write \"LD A,0\" to load the value 0 into register A for example. A program that translates assembly language into machine code is called an \"assembler\".\n",
      "\n"
     ]
    }
   ],
   "source": [
    "query_result = semantic_search(\"a programming language used for machine learning\")\n",
    "\n",
    "print_result(query_result)"
   ]
  },
  {
   "cell_type": "markdown",
   "id": "844728c4",
   "metadata": {},
   "source": [
    "### ... but wait ... this is a Multi-Lingual Model! 🗣❗️\n",
    "\n",
    " - You can use it to perform multilingual search! Search in one language that model understands and recieve relevant documents in any language!"
   ]
  },
  {
   "cell_type": "code",
   "execution_count": 45,
   "id": "59cc15dc",
   "metadata": {},
   "outputs": [
    {
     "name": "stdout",
     "output_type": "stream",
     "text": [
      "\u001b[95mSchindler's List (30.851825714111328) -144.47412\u001b[0m\n",
      "\u001b[4mhttps://simple.wikipedia.org/wiki?curid=19254\u001b[0m\n",
      "Among others such as \"Citizen Kane\" and \"Sunset Boulevard\", it has been called one of the greatest movies ever. In 1998, the American Film Institute selected it as the ninth most popular of all time in their 100 Years... 100 Movies list.\n",
      "\n",
      "\u001b[95mMickey Hargitay (37.07440185546875) -144.41766\u001b[0m\n",
      "\u001b[4mhttps://simple.wikipedia.org/wiki?curid=401869\u001b[0m\n",
      "Miklós \"Mickey\" Hargitay (January 6, 1926 – September 14, 2006) was an actor and Mr. Universe 1955. He was born in Budapest, Hungary. He was married to Jayne Mansfield. He is the father of actress Mariska Hargitay. During their marriage, Hargitay and Mansfield made four movies together. These were \"Will Success Spoil Rock Hunter?\" (1957), \"The Loves of Hercules\" (1960), \"Promises! Promises!\" (1963), and \"L'Amore Primitivo\" (1964).\n",
      "\n",
      "\u001b[95mThe Dark Knight (movie) (514.5526123046875) -143.8509\u001b[0m\n",
      "\u001b[4mhttps://simple.wikipedia.org/wiki?curid=121461\u001b[0m\n",
      "The movie is known as one of the best movies of its decade and one of the best superhero movies of all time. It got critical praise for its screenplay, visual effects, musical score, themes, performances (particularly Ledger's), cinematography, action sequences and direction. The movie also set numerous records during its theatrical run.\n",
      "\n"
     ]
    }
   ],
   "source": [
    "# This is a multi-lingual model so it can take in queries in different languages!\n",
    "\n",
    "#good movies in hindi\n",
    "\n",
    "query_result = semantic_search(\"महान फिल्में\")\n",
    "\n",
    "print_result(query_result)"
   ]
  },
  {
   "cell_type": "code",
   "execution_count": 40,
   "id": "6214567f",
   "metadata": {},
   "outputs": [
    {
     "name": "stdout",
     "output_type": "stream",
     "text": [
      "\u001b[95mBaden-Württemberg (37.600975036621094) -145.319\u001b[0m\n",
      "\u001b[4mhttps://simple.wikipedia.org/wiki?curid=2907\u001b[0m\n",
      "The Black forest, the Swabian Alb and the Lake Constance are world famous holiday regions. The highest mountain is the Feldberg (1492m).\n",
      "\n",
      "\u001b[95mGuernsey (373.6320495605469) -144.945\u001b[0m\n",
      "\u001b[4mhttps://simple.wikipedia.org/wiki?curid=11615\u001b[0m\n",
      "Castel, Forest, St Andrews, St Martins, St Peter Port, St Pierre du bois, St Sampson, St Saviour's, Torteval, Vale.\n",
      "\n",
      "\u001b[95mLeisure (127.69661712646484) -144.41655\u001b[0m\n",
      "\u001b[4mhttps://simple.wikipedia.org/wiki?curid=423\u001b[0m\n",
      "A vacation or holiday is the setting aside of time specifically for leisure. During their vacation, some people travel to a different region or country, and stay at a hotel so that they can do things they could not do near home. Other people prefer to spend their vacation time at home in their own community.\n",
      "\n"
     ]
    }
   ],
   "source": [
    "#vacation spots in Farsi\n",
    "\n",
    "query_result = semantic_search(\"مکان های تعطیلات\")\n",
    "\n",
    "print_result(query_result)"
   ]
  },
  {
   "cell_type": "code",
   "execution_count": 44,
   "id": "d289d6a0",
   "metadata": {},
   "outputs": [
    {
     "name": "stdout",
     "output_type": "stream",
     "text": [
      "\u001b[95mTotally Spies! (30.669504165649414) -145.12317\u001b[0m\n",
      "\u001b[4mhttps://simple.wikipedia.org/wiki?curid=63967\u001b[0m\n",
      "Totally Spies! The Movie 2009 film by Marathon Media hit 110 theaters in France and Netherlands. The Film was awarded 2011 kidscreen\n",
      "\n",
      "\u001b[95mDonald Pleasence (32.40802001953125) -143.94748\u001b[0m\n",
      "\u001b[4mhttps://simple.wikipedia.org/wiki?curid=356868\u001b[0m\n",
      "He made his first movie \"The Dybbuk\" in 1952. It was a television movie. He acted in several movies, such as \"You Only Live Twice\", where he played James Bond villain Ernst Stavro Blofeld, and \"The Great Escape\". Pleasence is known for his role as Dr. Samuel Loomis in John Carpenter's \"Halloween\". Since then, he appeared in five out of the six movies of the \"Halloween movie series\". Pleasence did not appear in \"\" because it was a different story from the last two movies.\n",
      "\n",
      "\u001b[95mGoodfellas (59.27198791503906) -143.87616\u001b[0m\n",
      "\u001b[4mhttps://simple.wikipedia.org/wiki?curid=18427\u001b[0m\n",
      "It gained six nominations for Oscars. It won one (for Joe Pesci's role). Many people thought the movie was great.\n",
      "\n"
     ]
    }
   ],
   "source": [
    "# GREAT ACTION movies in chinese\n",
    "query_result = semantic_search(\"很棒的电影\")\n",
    "\n",
    "print_result(query_result)"
   ]
  },
  {
   "cell_type": "markdown",
   "id": "b567c3f0",
   "metadata": {},
   "source": [
    "### 3. Hybrid Search:\n",
    "\n",
    "- Getting the best of both world!"
   ]
  },
  {
   "cell_type": "code",
   "execution_count": 61,
   "id": "2f590b20",
   "metadata": {},
   "outputs": [
    {
     "name": "stdout",
     "output_type": "stream",
     "text": [
      "{\n",
      "  \"data\": {\n",
      "    \"Get\": {\n",
      "      \"Article\": [\n",
      "        {\n",
      "          \"text\": \"The Dark Knight Rises is a 2012 British-American superhero movie, and a sequel to \\\"The Dark Knight\\\" and a second sequel to \\\"Batman Begins\\\". It was the last movie in \\\"The Dark Knight Trilogy\\\".\",\n",
      "          \"title\": \"The Dark Knight Rises\"\n",
      "        },\n",
      "        {\n",
      "          \"text\": \"Each of the three movies was a success in the box office; \\\"The Dark Knight\\\" was the number one grossing movie in 2008. \\\"The Dark Knight Rises\\\" is the third highest grossing movie of 2012. \\\"Batman Begins\\\" is the ninth highest grossing movie in 2005. \\\"Batman Begins\\\" earned $372,710,015 worldwide. \\\"The Dark Knight\\\" earned $1,023,045,358. \\\"The Dark Knight Rises\\\" earned $1,081,041,287, passing the receipts of \\\"The Dark Knight\\\".\",\n",
      "          \"title\": \"The Dark Knight Trilogy\"\n",
      "        },\n",
      "        {\n",
      "          \"text\": \"The \\\"Dark Knight\\\" Series is a set of three Christopher Nolan Batman movies. It includes \\\"Batman Begins\\\" (2005), \\\"The Dark Knight\\\" (2008), and \\\"The Dark Knight Rises\\\" (2012). Christian Bale, Michael Caine, Gary Oldman, Morgan Freeman, and Cillian Murphy appeared in all three movies.\",\n",
      "          \"title\": \"The Dark Knight Trilogy\"\n",
      "        }\n",
      "      ]\n",
      "    }\n",
      "  }\n",
      "}\n"
     ]
    }
   ],
   "source": [
    "response = (\n",
    "    client.query\n",
    "    .get(\"Article\", [\"title\", \"text\"])\n",
    "    .with_hybrid(\n",
    "        query=\"The Dark Knight\",\n",
    "        alpha=0\n",
    "    )\n",
    "    #.with_additional([\"score\", \"explainScore\"])\n",
    "    .with_limit(3)\n",
    "    .do()\n",
    ")\n",
    "\n",
    "print(json.dumps(response, indent=2))"
   ]
  },
  {
   "cell_type": "code",
   "execution_count": 54,
   "id": "1f4afc9f",
   "metadata": {},
   "outputs": [
    {
     "name": "stdout",
     "output_type": "stream",
     "text": [
      "{\n",
      "  \"data\": {\n",
      "    \"Get\": {\n",
      "      \"Article\": [\n",
      "        {\n",
      "          \"text\": \"The movie is based on DC Comics character Batman. It is distributed under Warner Bros.. The movie was directed by Christopher Nolan and produced by Emma Thomas. The music was scored by Hans Zimmer. The cast includes Christian Bale, Michael Caine, Gary Oldman, Joseph Gordon-Levitt, Tom Hardy, Morgan Freeman, Anne Hathaway, Marion Cotillard, Matthew Modine, Cillian Murphy, Nestor Carbonell, Ben Mendelsohn, Liam Neeson, Tom Conti, Joey King, Juno Temple, and Alon Abutbul. The locations of filming were in Pittsburgh, Pennsylvania, Newark, New Jersey, Los Angeles, California, and in New York City, New York.\",\n",
      "          \"title\": \"The Dark Knight Rises\"\n",
      "        },\n",
      "        {\n",
      "          \"text\": \"Wayne Enterprises is on the point of becoming bankrupt after Bruce wasted almost all of the companies money on a fusion reactor project when he learns that the core could be weaponized. Later, Bane attacks the Gotham Stock Exchange, using Bruce's fingerprints to bankrupt Wayne Enterprises. Alfred Pennyworth, concerned that Bruce has not moved on from being Batman, reveals to him that Rachel Dawes had intended to marry Dent before she died, and resigns in an attempt to dissuade him. Fearing that Daggett, Bane's employer, would gain access to the reactor, Bruce and Lucius Fox asks board member Miranda Tate to take over his company. Bane later kills Daggett. After being promised to erase her records, Selina agrees to take Batman to Bane, but instead betrays him to a trap. Bane appears and reveals that he intends to fulfill Ra's al Ghul's mission to destroy Gotham with the League of Shadows. He breaks Batman's back and takes him to a foreign, well-like prison where escape is impossible. The inmates tell Bruce the story of Ra's al Ghul's child, born in the prison and cared for by a fellow prisoner before escaping, the only prisoner to have ever done so; Bruce thinks the child is Bane.\",\n",
      "          \"title\": \"The Dark Knight Rises\"\n",
      "        },\n",
      "        {\n",
      "          \"text\": \"Based on the DC Comics character Batman, the movie is the second installment of Nolan's \\\"The Dark Knight Trilogy\\\" and a sequel to 2005's \\\"Batman Begins\\\", starring Christian Bale and supported by Michael Caine, Heath Ledger, Gary Oldman, Aaron Eckhart, Maggie Gyllenhaal, and Morgan Freeman. In the movie, Bruce Wayne / Batman (Bale), Police Lieutenant James Gordon (Oldman) and District Attorney Harvey Dent (Eckhart) form an alliance to dismantle organized crime in Gotham City, but are menaced by an anarchistic mastermind known as the Joker (Ledger), who seeks to undermine Batman's influence and throw the city into anarchy.\",\n",
      "          \"title\": \"The Dark Knight (movie)\"\n",
      "        }\n",
      "      ]\n",
      "    }\n",
      "  }\n",
      "}\n"
     ]
    }
   ],
   "source": [
    "response = (\n",
    "    client.query\n",
    "    .get(\"Article\", [\"title\", \"text\"])\n",
    "    .with_hybrid(\n",
    "        query=\"The Dark Knight\",\n",
    "        alpha=1\n",
    "    )\n",
    "    #.with_additional([\"score\", \"explainScore\"])\n",
    "    .with_limit(3)\n",
    "    .do()\n",
    ")\n",
    "\n",
    "print(json.dumps(response, indent=2))"
   ]
  },
  {
   "cell_type": "markdown",
   "id": "efd27f7d",
   "metadata": {},
   "source": [
    "### 4. Generative Search:\n",
    "- Attaching your search engine outputs to a LLM to generate with!/"
   ]
  },
  {
   "cell_type": "code",
   "execution_count": 68,
   "id": "3f2c5cfa",
   "metadata": {},
   "outputs": [
    {
     "name": "stdout",
     "output_type": "stream",
     "text": [
      "\u001b[95mWilt Chamberlain (77.10758209228516) -148.36288\u001b[0m\n",
      "\u001b[4mhttps://simple.wikipedia.org/wiki?curid=109315\u001b[0m\n",
      "Wilton Norman \"Wilt\" Chamberlain (August 21, 1936–October 12, 1999) was a British basketball player. Chamberlain played in the NBA during the 1960s, and many people think he is one of the best players in basketball history. At 7 feet 1 inch, he was the tallest and heaviest player in the league for most of his career, and he was one of the most famous people in the game for many years. He is the first and only basketball player to score 100 points in an NBA game. Chamberlain led the league several times in points, accuracy, rebounds, and minutes. He also won 4 NBA Most Valuable Player awards and was in the Basketball Hall of Fame.\n",
      "\n",
      "\u001b[95mMagic Johnson (45.81338119506836) -146.82625\u001b[0m\n",
      "\u001b[4mhttps://simple.wikipedia.org/wiki?curid=285022\u001b[0m\n",
      "He was inducted into the Basketball Hall of Fame in 2002 and was also named as one of the 50 Greatest Players in NBA History in 1996.\n",
      "\n",
      "\u001b[95mWilt Chamberlain (77.10758209228516) -146.26639\u001b[0m\n",
      "\u001b[4mhttps://simple.wikipedia.org/wiki?curid=109315\u001b[0m\n",
      "He won two NBA championships: the first in 1967, with the Philadelphia 76ers, and the second in 1972, with the Los Angeles Lakers. Chamberlain also played for several seasons with the Philadelphia Warriors and toured with the Harlem Globetrotters. In 1999, he died from congestive heart failure.\n",
      "\n"
     ]
    }
   ],
   "source": [
    "bb_res = semantic_search(\"famous basketball player\")\n",
    "print_result(bb_res)"
   ]
  },
  {
   "cell_type": "code",
   "execution_count": 69,
   "id": "4cbee297",
   "metadata": {},
   "outputs": [],
   "source": [
    "generatePrompt = \"Write me some interview questions I can ask {title} here is some information about them {text}\"\n",
    "\n",
    "result = (\n",
    "  client.query\n",
    "  .get(\"Article\", [\"title\",\"text\"])\n",
    "  .with_generate(single_prompt=generatePrompt) # Pass in each obj 1 at a time\n",
    "  .with_near_text({\n",
    "    \"concepts\": [\"famous basketball players\"]\n",
    "  })\n",
    "  .with_limit(3)\n",
    ").do()"
   ]
  },
  {
   "cell_type": "code",
   "execution_count": 71,
   "id": "d0206d49",
   "metadata": {},
   "outputs": [
    {
     "name": "stdout",
     "output_type": "stream",
     "text": [
      "{\n",
      "  \"data\": {\n",
      "    \"Get\": {\n",
      "      \"Article\": [\n",
      "        {\n",
      "          \"_additional\": {\n",
      "            \"generate\": {\n",
      "              \"error\": null,\n",
      "              \"singleResult\": \"1. Can you tell us about your experience playing in the NBA during the 1960s and how it shaped your career?\\n2. As one of the tallest and heaviest players in the league, how did your physical attributes contribute to your success on the court?\\n3. Scoring 100 points in a single NBA game is an incredible feat. Can you walk us through that game and what it felt like to achieve such a milestone?\\n4. Winning four NBA Most Valuable Player awards is a remarkable accomplishment. What do you believe set you apart from other players during that time?\\n5. Can you share some insights into your training regimen and how you maintained your physical condition throughout your career?\\n6. How did you approach rebounding, and what strategies did you employ to consistently lead the league in this category?\\n7. Accuracy is a crucial aspect of basketball. What techniques or mental approaches did you use to maintain a high shooting percentage?\\n8. Being one of the most famous people in the game for many years, how did you handle the pressure and attention that came with your success?\\n9. Can you discuss the impact of your four NBA championships on your career and how they shaped your legacy?\\n10. Being inducted into the Basketball Hall of Fame is a significant honor. How did it feel to receive such recognition for your contributions to the sport?\"\n",
      "            }\n",
      "          },\n",
      "          \"text\": \"Wilton Norman \\\"Wilt\\\" Chamberlain (August 21, 1936\\u2013October 12, 1999) was a British basketball player. Chamberlain played in the NBA during the 1960s, and many people think he is one of the best players in basketball history. At 7 feet 1 inch, he was the tallest and heaviest player in the league for most of his career, and he was one of the most famous people in the game for many years. He is the first and only basketball player to score 100 points in an NBA game. Chamberlain led the league several times in points, accuracy, rebounds, and minutes. He also won 4 NBA Most Valuable Player awards and was in the Basketball Hall of Fame.\",\n",
      "          \"title\": \"Wilt Chamberlain\"\n",
      "        },\n",
      "        {\n",
      "          \"_additional\": {\n",
      "            \"generate\": {\n",
      "              \"error\": null,\n",
      "              \"singleResult\": \"1. Can you share with us your thoughts and emotions when you received the news of being inducted into the Basketball Hall of Fame in 2002? How did it feel to be recognized for your incredible contributions to the sport?\\n\\n2. Being named one of the 50 Greatest Players in NBA History in 1996 is a remarkable achievement. How did it feel to be recognized among the elite players of all time? Did it add any pressure or motivation to your career?\\n\\n3. Throughout your career, you played alongside and against some of the greatest basketball players in history. Who would you say was your toughest opponent and why? How did you approach competing against them?\\n\\n4. As a highly successful player, what advice would you give to aspiring basketball players who dream of reaching the same level of greatness that you achieved?\\n\\n5. You are known for your exceptional leadership skills both on and off the court. Can you share some insights into your leadership style and how it contributed to your success as a player and later as a businessman?\\n\\n6. After retiring from professional basketball, you transitioned into a successful entrepreneur and philanthropist. How did your experiences as a player shape your approach to business and community involvement?\\n\\n7. Throughout your career, you played for the Los Angeles Lakers and won multiple NBA championships. Can you share some of your most memorable moments or experiences from those championship-winning seasons?\\n\\n8. As a player, you were known for your versatility and ability to play multiple positions. How did this versatility impact your game and contribute to your team's success?\\n\\n9. In addition to your basketball career, you have also been involved in various philanthropic endeavors, particularly in the fight against HIV/AIDS. Can you tell us about your motivation to become an advocate for this cause and the impact you have made through your efforts?\\n\\n10. Looking back on your incredible journey, what would you say is your proudest accomplishment, both on and off the court?\"\n",
      "            }\n",
      "          },\n",
      "          \"text\": \"He was inducted into the Basketball Hall of Fame in 2002 and was also named as one of the 50 Greatest Players in NBA History in 1996.\",\n",
      "          \"title\": \"Magic Johnson\"\n",
      "        },\n",
      "        {\n",
      "          \"_additional\": {\n",
      "            \"generate\": {\n",
      "              \"error\": null,\n",
      "              \"singleResult\": \"1. Can you share some of your most memorable moments from winning the NBA championships in 1967 and 1972? How did those experiences shape your career?\\n\\n2. You had the opportunity to play for both the Philadelphia Warriors and the Philadelphia 76ers. How did playing for these teams differ, and what impact did it have on your game?\\n\\n3. As someone who also toured with the Harlem Globetrotters, how did that experience influence your playing style and overall basketball career?\\n\\n4. Congestive heart failure ultimately led to your passing in 1999. How did you manage your health while playing professionally, and did it impact your performance on the court?\\n\\n5. Throughout your career, you were known for your incredible scoring ability and rebounding prowess. What were some of the strategies or techniques you employed to consistently dominate in these areas?\\n\\n6. Off the court, you were known for your larger-than-life personality and charisma. How did your public image and fame impact your personal life and relationships?\\n\\n7. In addition to your basketball career, you were also an accomplished track and field athlete. How did your involvement in other sports contribute to your overall athleticism and success in basketball?\\n\\n8. As one of the most dominant players in NBA history, how did you handle the pressure and expectations that came with being a superstar?\\n\\n9. Throughout your career, you played alongside and against many legendary players. Who were some of your toughest opponents, and how did they challenge you on the court?\\n\\n10. Looking back on your basketball journey, what advice would you give to aspiring athletes who hope to achieve greatness in the sport?\"\n",
      "            }\n",
      "          },\n",
      "          \"text\": \"He won two NBA championships: the first in 1967, with the Philadelphia 76ers, and the second in 1972, with the Los Angeles Lakers. Chamberlain also played for several seasons with the Philadelphia Warriors and toured with the Harlem Globetrotters. In 1999, he died from congestive heart failure.\",\n",
      "          \"title\": \"Wilt Chamberlain\"\n",
      "        }\n",
      "      ]\n",
      "    }\n",
      "  }\n",
      "}\n"
     ]
    }
   ],
   "source": [
    "print(json.dumps(result, indent=2))"
   ]
  },
  {
   "cell_type": "code",
   "execution_count": 36,
   "id": "713d9ff0",
   "metadata": {},
   "outputs": [
    {
     "name": "stdout",
     "output_type": "stream",
     "text": [
      "Generated Text:\n",
      "1. Can you tell us about your experience playing in the NBA during the 1960s and how it shaped your career?\n",
      "2. As one of the tallest and heaviest players in the league, how did your physical attributes contribute to your success on the court?\n",
      "3. Scoring 100 points in a single NBA game is an incredible feat. Can you walk us through that game and what it felt like to achieve such a milestone?\n",
      "4. Winning four NBA Most Valuable Player awards is a remarkable accomplishment. What do you believe set you apart from other players during that time?\n",
      "5. Can you share some insights into your training regimen and how you maintained your physical condition throughout your career?\n",
      "6. How did you approach rebounding, and what strategies did you employ to consistently lead the league in this category?\n",
      "7. Accuracy is a crucial aspect of basketball. What techniques or mental approaches did you use to maintain a high shooting percentage?\n",
      "8. Being one of the most famous people in the game for many years, how did you handle the pressure and attention that came with your success?\n",
      "9. Can you discuss the impact of your four NBA championships on your career and how they shaped your legacy?\n",
      "10. Being inducted into the Basketball Hall of Fame is a significant honor. How did it feel to receive such recognition for your contributions to the sport?\n",
      "\n",
      "Relevant Context:\n",
      "Wilt Chamberlain\n",
      "\n"
     ]
    }
   ],
   "source": [
    "print(\"Generated Text:\\n\" + result['data']['Get']['Article'][0]['_additional']['generate']['singleResult']+\"\\n\")\n",
    "\n",
    "\n",
    "print(\"Relevant Context:\\n\" + result['data']['Get']['Article'][0]['title']+\"\\n\")"
   ]
  },
  {
   "cell_type": "markdown",
   "id": "312f208e",
   "metadata": {},
   "source": [
    "#### Passing all relevant documents to complete a Task specified in the Prompt: Grouped Task"
   ]
  },
  {
   "cell_type": "code",
   "execution_count": 72,
   "id": "5456bb59",
   "metadata": {},
   "outputs": [
    {
     "name": "stdout",
     "output_type": "stream",
     "text": [
      "Generated Text:\n",
      "The most accomplished player in the given text is Wilt Chamberlain. He is considered one of the best players in basketball history, holds numerous records, including being the first and only player to score 100 points in an NBA game, and has won 4 NBA Most Valuable Player awards.\n",
      "Article Titles Provided as Context:\n",
      "\n",
      "Wilt Chamberlain\n",
      "\n",
      "Magic Johnson\n",
      "\n",
      "Wilt Chamberlain\n",
      "\n",
      "James Naismith\n",
      "\n",
      "Scottie Pippen\n",
      "\n",
      "Australia\n",
      "\n",
      "LeBron James\n",
      "\n",
      "Shaquille O'Neal\n",
      "\n",
      "Stephen Curry\n",
      "\n",
      "Magic Johnson\n",
      "\n",
      "Bosnia and Herzegovina\n",
      "\n",
      "Baltimore\n",
      "\n",
      "Chicago Bulls\n",
      "\n",
      "James Naismith\n",
      "\n",
      "Scottie Pippen\n",
      "\n"
     ]
    }
   ],
   "source": [
    "generateTask = \"Which of these players in {text} is the most accomplished. Choose atleast one\"\n",
    "\n",
    "result = (\n",
    "  client.query\n",
    "  .get(\"Article\", [\"title\",\"text\"])\n",
    "  .with_generate(grouped_task=generateTask)\n",
    "  .with_near_text({\n",
    "    \"concepts\": [\"famous basketball players\"]\n",
    "  })\n",
    "  .with_limit(15)\n",
    ").do()\n",
    "\n",
    "print(\"Generated Text:\\n\" + result['data']['Get']['Article'][0]['_additional']['generate']['groupedResult']+\"\\n\"+\"\\nArticle Titles Provided as Context:\\n\")\n",
    "\n",
    "k = [print(result['data']['Get']['Article'][i]['title']+\"\\n\") for i in range(len(result['data']['Get']['Article']))]"
   ]
  },
  {
   "cell_type": "code",
   "execution_count": 73,
   "id": "e7bfd81a",
   "metadata": {},
   "outputs": [
    {
     "name": "stdout",
     "output_type": "stream",
     "text": [
      "Generated Text:\n",
      "The given texts are all similar because they all provide information about different basketball players. Each text includes details about the player's career, achievements, and their impact on the sport. While the specific information varies, the overall theme of basketball and its prominent players is consistent throughout the texts.\n",
      "\n",
      "Article Titles Provided as Context:\n",
      "\n",
      "Wilt Chamberlain\n",
      "\n",
      "Magic Johnson\n",
      "\n",
      "Wilt Chamberlain\n",
      "\n",
      "James Naismith\n",
      "\n",
      "Scottie Pippen\n",
      "\n"
     ]
    }
   ],
   "source": [
    "generateTask = \"Explain why these {text} results are all similar \"\n",
    "\n",
    "result = (\n",
    "  client.query\n",
    "  .get(\"Article\", [\"title\",\"text\"])\n",
    "  .with_generate(grouped_task=generateTask)\n",
    "  .with_near_text({\n",
    "    \"concepts\": [\"famous basketball players\"]\n",
    "  })\n",
    "  .with_limit(5)\n",
    ").do()\n",
    "\n",
    "print(\"Generated Text:\\n\" + result['data']['Get']['Article'][0]['_additional']['generate']['groupedResult']+\"\\n\\nArticle Titles Provided as Context:\\n\")\n",
    "\n",
    "k = [print(result['data']['Get']['Article'][i]['title']+\"\\n\") for i in range(len(result['data']['Get']['Article']))]"
   ]
  },
  {
   "cell_type": "code",
   "execution_count": 74,
   "id": "9c11d054",
   "metadata": {},
   "outputs": [
    {
     "name": "stdout",
     "output_type": "stream",
     "text": [
      "Generated Text:\n",
      "Once upon a time, in the world of basketball, there were four legendary players: Wilt Chamberlain, Magic Johnson, James Naismith, and Scottie Pippen. Each of them possessed unique skills and had made significant contributions to the sport.\n",
      "\n",
      "One day, a grand tournament was organized to determine the greatest basketball player of all time. The stakes were high, and the competition was fierce. The basketball court was set, and the crowd eagerly awaited the clash of these basketball titans.\n",
      "\n",
      "Wilt Chamberlain, known for his towering height and incredible scoring ability, stepped onto the court with an air of confidence. He had dominated the NBA during the 1960s and was considered one of the best players in history. With his unmatched strength and agility, Chamberlain was determined to prove his superiority.\n",
      "\n",
      "Magic Johnson, a charismatic and versatile player, entered the arena with a smile on his face. He was known for his exceptional passing skills and leadership on the court. Johnson had won multiple championships and had been named one of the 50 Greatest Players in NBA History. He was ready to showcase his basketball wizardry.\n",
      "\n",
      "James Naismith, the creator of basketball itself, joined the competition as a wildcard entry. Though not a professional player, Naismith possessed an unparalleled understanding of the game. He had witnessed the evolution of basketball and had seen it grow into a global phenomenon. Naismith aimed to demonstrate that his creation had transcended the abilities of any individual player.\n",
      "\n",
      "Scottie Pippen, a tenacious defender and skilled scorer, arrived with a determined look in his eyes. Pippen had won six championships alongside the legendary Michael Jordan during their time with the Chicago Bulls. He was known for his incredible work ethic and ability to shut down opponents. Pippen was ready to prove that he was more than just Jordan's sidekick.\n",
      "\n",
      "As the tournament began, the battles on the court were intense. Chamberlain's dominance in the paint was unmatched, as he effortlessly scored basket after basket. Johnson showcased his incredible court vision, making precise passes that left his opponents in awe. Naismith's strategic brilliance allowed him to exploit the weaknesses of his opponents, surprising everyone with his unconventional moves. Pippen's defensive prowess frustrated his opponents, making it nearly impossible for them to score.\n",
      "\n",
      "With each passing game, the competition grew more intense. The crowd was captivated by the display of skill, athleticism, and sheer determination. The battles between these basketball legends were legendary, with each player pushing themselves to their limits.\n",
      "\n",
      "In the end, it was Scottie Pippen who emerged victorious. His relentless defense and clutch performances propelled him to the top. Pippen had proven that he was not just a sidekick but a force to be reckoned with in his own right.\n",
      "\n",
      "As the tournament concluded, the four players embraced, acknowledging each other's greatness. They had fought with all their might, leaving everything on the court. The tournament had showcased the incredible talent and passion that basketball had brought to the world.\n",
      "\n",
      "And so, the story of the epic basketball tournament, where Wilt Chamberlain, Magic Johnson, James Naismith, and Scottie Pippen fought for glory, became a legendary tale passed down through generations. Their names would forever be etched in the annals of basketball history, inspiring future generations to strive for greatness on the court.\n",
      "\n",
      "Article Text Provided as Context:\n",
      "\n",
      "Wilt Chamberlain\n",
      "\n",
      "Magic Johnson\n",
      "\n",
      "Wilt Chamberlain\n",
      "\n",
      "James Naismith\n",
      "\n",
      "Scottie Pippen\n",
      "\n"
     ]
    }
   ],
   "source": [
    "generateTask = \"Tell me a story where these people {title} fight each other, here's some information about them {text}\"\n",
    "\n",
    "result = (\n",
    "  client.query\n",
    "  .get(\"Article\", [\"title\",'text'])\n",
    "  .with_generate(grouped_task=generateTask)\n",
    "  .with_near_text({\n",
    "    \"concepts\": [\"famous basketball players\"]\n",
    "  })\n",
    "  .with_limit(5)\n",
    ").do()\n",
    "\n",
    "print(\"Generated Text:\\n\" + result['data']['Get']['Article'][0]['_additional']['generate']['groupedResult']+\"\\n\\nArticle Text Provided as Context:\\n\")\n",
    "\n",
    "k = [print(result['data']['Get']['Article'][i]['title']+\"\\n\") for i in range(len(result['data']['Get']['Article']))]"
   ]
  },
  {
   "attachments": {
    "image.png": {
     "image/png": "[encoded data removed]"
    }
   },
   "cell_type": "markdown",
   "id": "1b5f3b03",
   "metadata": {},
   "source": [
    "### Learn more in the Weaviate Docs\n",
    "![image.png](attachment:image.png)"
   ]
  },
  {
   "cell_type": "code",
   "execution_count": null,
   "id": "90955f40",
   "metadata": {},
   "outputs": [],
   "source": []
  }
 ],
 "metadata": {
  "kernelspec": {
   "display_name": "Python 3 (ipykernel)",
   "language": "python",
   "name": "python3"
  },
  "language_info": {
   "codemirror_mode": {
    "name": "ipython",
    "version": 3
   },
   "file_extension": ".py",
   "mimetype": "text/x-python",
   "name": "python",
   "nbconvert_exporter": "python",
   "pygments_lexer": "ipython3",
   "version": "3.9.15"
  }
 },
 "nbformat": 4,
 "nbformat_minor": 5
}
